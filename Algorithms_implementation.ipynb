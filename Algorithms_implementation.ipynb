{
 "cells": [
  {
   "cell_type": "code",
   "execution_count": 1,
   "id": "a8ce930f-0571-4e34-be23-7d0da29d028e",
   "metadata": {},
   "outputs": [],
   "source": [
    "import os\n",
    "import cv2\n",
    "from sklearn.preprocessing import LabelEncoder, StandardScaler\n",
    "import numpy as np\n",
    "from sklearn.model_selection import train_test_split\n",
    "import torch\n",
    "import torch.nn as nn\n",
    "import torch.optim as optim\n",
    "from sklearn.svm import SVC \n",
    "import torch\n",
    "import torch.nn as nn\n",
    "import torch.optim as optim\n",
    "from torch.utils.data import Dataset, DataLoader\n",
    "from torchvision import transforms\n",
    "from torch.utils.data import DataLoader, TensorDataset\n",
    "from tqdm import tqdm\n",
    "import matplotlib.pyplot as plt\n",
    "from ptflops import get_model_complexity_info\n",
    "from scipy.stats import entropy\n",
    "from scipy.stats import pearsonr\n",
    "import torchvision.models as models\n",
    "from torch.utils.data import Dataset, DataLoader\n",
    "from torchvision import transforms\n",
    "from tqdm import tqdm\n",
    "import matplotlib.pyplot as plt\n",
    "from ptflops import get_model_complexity_info\n",
    "from scipy.stats import entropy\n",
    "from scipy.stats import pearsonr\n",
    "import torchvision.models as models\n",
    "from io import BytesIO\n",
    "import pandas as pd\n",
    "from scipy.stats import sem\n",
    "import torch.nn.functional as F\n",
    "import seaborn as sns\n",
    "from sklearn.metrics import accuracy_score\n",
    "from sklearn.metrics import classification_report\n",
    "from sklearn.metrics import confusion_matrix\n",
    "import math\n",
    "from sklearn.metrics import mean_squared_error\n",
    "from scipy.stats import pearsonr\n",
    "from sklearn import svm\n",
    "from sklearn.metrics import accuracy_score\n",
    "from sklearn.metrics import classification_report\n",
    "from sklearn.metrics import confusion_matrix\n",
    "from sklearn import svm\n",
    "from sklearn.neural_network import MLPClassifier\n",
    "from sklearn.model_selection import KFold\n",
    "from sklearn import tree\n",
    "from sklearn.ensemble import RandomForestClassifier\n",
    "from sklearn.naive_bayes import GaussianNB \n",
    "from skimage.metrics import structural_similarity as ssim\n",
    "from sklearn import metrics \n",
    "import itertools\n",
    "\n",
    "import shap"
   ]
  },
  {
   "cell_type": "code",
   "execution_count": 91,
   "id": "7aba1c61-b022-4726-9706-09a8d66b9e71",
   "metadata": {},
   "outputs": [],
   "source": [
    "import matplotlib as mpl\n",
    "import pylab\n",
    "mpl.rcParams['lines.linewidth'] = 2\n",
    "mpl.rcParams['lines.color'] = 'r'\n",
    "mpl.rcParams['font.weight'] = 200\n",
    "plt.style.use('seaborn-whitegrid')\n",
    "plt.rc('figure',figsize=(8,8))\n",
    "mpl.axes.Axes.annotate\n",
    "mpl.rcParams['font.family'] = \"serif\"\n",
    "pylab.rcParams['ytick.major.pad']='15'\n",
    "pylab.rcParams['xtick.major.pad']='15'\n",
    "mpl.rcParams['font.weight'] = \"semibold\"\n",
    "mpl.rcParams['axes.labelsize'] = 20\n",
    "mpl.rcParams['axes.linewidth'] = 4\n",
    "mpl.rcParams['xtick.labelsize'] = 20\n",
    "mpl.rcParams['ytick.labelsize'] = 20\n",
    "mpl.rcParams['axes.edgecolor'] = 'black'\n",
    "mpl.rcParams['axes.titlesize'] = 20\n",
    "mpl.rcParams['legend.fontsize'] = 15"
   ]
  },
  {
   "cell_type": "code",
   "execution_count": 3,
   "id": "bdaf18e1-fd86-4ca3-8338-ba9c7ae260cc",
   "metadata": {},
   "outputs": [],
   "source": [
    "def load_data(file_path):\n",
    "    data = pd.read_csv(file_path)\n",
    "    return data"
   ]
  },
  {
   "cell_type": "code",
   "execution_count": 177,
   "id": "80d881f1-74ba-45f6-9c7a-c3c0d686d162",
   "metadata": {},
   "outputs": [],
   "source": [
    "def preprocess_data(data):\n",
    "\n",
    "    #X = data.drop(columns=[\"Cognitive_Load_Label\"])\n",
    "    X = data.drop(columns=[\"label\"])\n",
    "    y = data[\"label\"]\n",
    "    #y = data[\"Cognitive_Load_Label\"]\n",
    "    \n",
    "    \n",
    "    label_encoder = LabelEncoder()\n",
    "    y = label_encoder.fit_transform(y)\n",
    "    \n",
    "    scaler = StandardScaler()\n",
    "    X = scaler.fit_transform(X)\n",
    "    \n",
    "    return X, y, label_encoder"
   ]
  },
  {
   "cell_type": "code",
   "execution_count": 178,
   "id": "38dbd48d-7ed2-4240-b1a9-94d7ee1876a4",
   "metadata": {},
   "outputs": [],
   "source": [
    "def split_data(X, y, test_size=0.20, random_state=42):\n",
    "\n",
    "    X_train, X_test, y_train, y_test = train_test_split(X, y, test_size=test_size, random_state=random_state)\n",
    "    return X_train, X_test, y_train, y_test"
   ]
  },
  {
   "cell_type": "code",
   "execution_count": 179,
   "id": "9b0c57df-f413-4733-88a9-7f16052ef0ee",
   "metadata": {},
   "outputs": [],
   "source": [
    "def analyze_labels(data, label_column):\n",
    "    unique_classes = data[label_column].unique()  # Find unique classes\n",
    "    class_counts = data[label_column].value_counts()  # Count samples per class\n",
    "    \n",
    "    print(f\"Number of unique classes: {len(unique_classes)}\")\n",
    "    print(\"\\nClasses and their sample counts:\")\n",
    "    print(class_counts)"
   ]
  },
  {
   "cell_type": "code",
   "execution_count": 180,
   "id": "97c4ca6c-e077-415a-b818-cabf3986114e",
   "metadata": {},
   "outputs": [
    {
     "name": "stdout",
     "output_type": "stream",
     "text": [
      "Data loaded successfully.\n"
     ]
    }
   ],
   "source": [
    "data = load_data(\"EEGfeatures_with_labels.csv\")\n",
    "print(\"Data loaded successfully.\")"
   ]
  },
  {
   "cell_type": "code",
   "execution_count": 181,
   "id": "407aa9c5-dffc-4686-a31f-6cd212948b01",
   "metadata": {},
   "outputs": [],
   "source": [
    "#data = load_data(\"PPGfeatures_with_labels.csv\")\n",
    "#print(\"Data loaded successfully.\")"
   ]
  },
  {
   "cell_type": "code",
   "execution_count": 182,
   "id": "3882c96d-4ac9-48ff-98d7-7c876ca1e20d",
   "metadata": {},
   "outputs": [
    {
     "data": {
      "text/html": [
       "<div>\n",
       "<style scoped>\n",
       "    .dataframe tbody tr th:only-of-type {\n",
       "        vertical-align: middle;\n",
       "    }\n",
       "\n",
       "    .dataframe tbody tr th {\n",
       "        vertical-align: top;\n",
       "    }\n",
       "\n",
       "    .dataframe thead th {\n",
       "        text-align: right;\n",
       "    }\n",
       "</style>\n",
       "<table border=\"1\" class=\"dataframe\">\n",
       "  <thead>\n",
       "    <tr style=\"text-align: right;\">\n",
       "      <th></th>\n",
       "      <th>ShannonEntropy_0</th>\n",
       "      <th>ShannonEntropy_1</th>\n",
       "      <th>ShannonEntropy_2</th>\n",
       "      <th>ShannonEntropy_3</th>\n",
       "      <th>MedianFreq_0</th>\n",
       "      <th>MedianFreq_1</th>\n",
       "      <th>MedianFreq_2</th>\n",
       "      <th>MedianFreq_3</th>\n",
       "      <th>Std_0</th>\n",
       "      <th>Std_1</th>\n",
       "      <th>...</th>\n",
       "      <th>BandPower_beta_1</th>\n",
       "      <th>BandPower_beta_2</th>\n",
       "      <th>BandPower_beta_3</th>\n",
       "      <th>BandPower_gamma_0</th>\n",
       "      <th>BandPower_gamma_1</th>\n",
       "      <th>BandPower_gamma_2</th>\n",
       "      <th>BandPower_gamma_3</th>\n",
       "      <th>MI_0</th>\n",
       "      <th>PLI_0</th>\n",
       "      <th>label</th>\n",
       "    </tr>\n",
       "  </thead>\n",
       "  <tbody>\n",
       "    <tr>\n",
       "      <th>0</th>\n",
       "      <td>6.360649</td>\n",
       "      <td>6.306755</td>\n",
       "      <td>10.002474</td>\n",
       "      <td>7.191911</td>\n",
       "      <td>85.8</td>\n",
       "      <td>114.6</td>\n",
       "      <td>56.6</td>\n",
       "      <td>84.4</td>\n",
       "      <td>32.061341</td>\n",
       "      <td>27.603852</td>\n",
       "      <td>...</td>\n",
       "      <td>1.444642</td>\n",
       "      <td>120.873901</td>\n",
       "      <td>0.503801</td>\n",
       "      <td>0.625572</td>\n",
       "      <td>3.308251</td>\n",
       "      <td>938.983370</td>\n",
       "      <td>0.957668</td>\n",
       "      <td>0.838047</td>\n",
       "      <td>0.117057</td>\n",
       "      <td>1</td>\n",
       "    </tr>\n",
       "    <tr>\n",
       "      <th>1</th>\n",
       "      <td>6.718830</td>\n",
       "      <td>5.959228</td>\n",
       "      <td>9.984402</td>\n",
       "      <td>7.338912</td>\n",
       "      <td>83.0</td>\n",
       "      <td>31.1</td>\n",
       "      <td>76.1</td>\n",
       "      <td>38.9</td>\n",
       "      <td>32.026274</td>\n",
       "      <td>23.010700</td>\n",
       "      <td>...</td>\n",
       "      <td>1.063105</td>\n",
       "      <td>126.451029</td>\n",
       "      <td>0.416003</td>\n",
       "      <td>0.650411</td>\n",
       "      <td>2.372382</td>\n",
       "      <td>943.085065</td>\n",
       "      <td>0.943409</td>\n",
       "      <td>3.412117</td>\n",
       "      <td>0.027865</td>\n",
       "      <td>1</td>\n",
       "    </tr>\n",
       "    <tr>\n",
       "      <th>2</th>\n",
       "      <td>6.614333</td>\n",
       "      <td>5.946551</td>\n",
       "      <td>9.995242</td>\n",
       "      <td>7.332993</td>\n",
       "      <td>90.6</td>\n",
       "      <td>95.3</td>\n",
       "      <td>100.4</td>\n",
       "      <td>54.3</td>\n",
       "      <td>30.748537</td>\n",
       "      <td>22.257319</td>\n",
       "      <td>...</td>\n",
       "      <td>0.937130</td>\n",
       "      <td>108.797352</td>\n",
       "      <td>0.566946</td>\n",
       "      <td>0.683323</td>\n",
       "      <td>2.175736</td>\n",
       "      <td>954.340933</td>\n",
       "      <td>1.002169</td>\n",
       "      <td>1.640939</td>\n",
       "      <td>0.027344</td>\n",
       "      <td>1</td>\n",
       "    </tr>\n",
       "    <tr>\n",
       "      <th>3</th>\n",
       "      <td>6.181034</td>\n",
       "      <td>5.897674</td>\n",
       "      <td>10.036926</td>\n",
       "      <td>7.025405</td>\n",
       "      <td>82.4</td>\n",
       "      <td>51.2</td>\n",
       "      <td>20.4</td>\n",
       "      <td>58.9</td>\n",
       "      <td>24.771528</td>\n",
       "      <td>24.504576</td>\n",
       "      <td>...</td>\n",
       "      <td>1.245104</td>\n",
       "      <td>135.301583</td>\n",
       "      <td>0.321927</td>\n",
       "      <td>0.458879</td>\n",
       "      <td>3.001322</td>\n",
       "      <td>948.288957</td>\n",
       "      <td>0.813986</td>\n",
       "      <td>2.610624</td>\n",
       "      <td>0.126172</td>\n",
       "      <td>1</td>\n",
       "    </tr>\n",
       "    <tr>\n",
       "      <th>4</th>\n",
       "      <td>6.651620</td>\n",
       "      <td>6.004883</td>\n",
       "      <td>10.006555</td>\n",
       "      <td>7.496894</td>\n",
       "      <td>101.0</td>\n",
       "      <td>84.4</td>\n",
       "      <td>27.5</td>\n",
       "      <td>18.3</td>\n",
       "      <td>32.954740</td>\n",
       "      <td>23.439127</td>\n",
       "      <td>...</td>\n",
       "      <td>1.182783</td>\n",
       "      <td>115.742823</td>\n",
       "      <td>0.548304</td>\n",
       "      <td>0.625329</td>\n",
       "      <td>2.436957</td>\n",
       "      <td>961.504731</td>\n",
       "      <td>1.194271</td>\n",
       "      <td>1.051656</td>\n",
       "      <td>0.120182</td>\n",
       "      <td>1</td>\n",
       "    </tr>\n",
       "  </tbody>\n",
       "</table>\n",
       "<p>5 rows × 55 columns</p>\n",
       "</div>"
      ],
      "text/plain": [
       "   ShannonEntropy_0  ShannonEntropy_1  ShannonEntropy_2  ShannonEntropy_3  \\\n",
       "0          6.360649          6.306755         10.002474          7.191911   \n",
       "1          6.718830          5.959228          9.984402          7.338912   \n",
       "2          6.614333          5.946551          9.995242          7.332993   \n",
       "3          6.181034          5.897674         10.036926          7.025405   \n",
       "4          6.651620          6.004883         10.006555          7.496894   \n",
       "\n",
       "   MedianFreq_0  MedianFreq_1  MedianFreq_2  MedianFreq_3      Std_0  \\\n",
       "0          85.8         114.6          56.6          84.4  32.061341   \n",
       "1          83.0          31.1          76.1          38.9  32.026274   \n",
       "2          90.6          95.3         100.4          54.3  30.748537   \n",
       "3          82.4          51.2          20.4          58.9  24.771528   \n",
       "4         101.0          84.4          27.5          18.3  32.954740   \n",
       "\n",
       "       Std_1  ...  BandPower_beta_1  BandPower_beta_2  BandPower_beta_3  \\\n",
       "0  27.603852  ...          1.444642        120.873901          0.503801   \n",
       "1  23.010700  ...          1.063105        126.451029          0.416003   \n",
       "2  22.257319  ...          0.937130        108.797352          0.566946   \n",
       "3  24.504576  ...          1.245104        135.301583          0.321927   \n",
       "4  23.439127  ...          1.182783        115.742823          0.548304   \n",
       "\n",
       "   BandPower_gamma_0  BandPower_gamma_1  BandPower_gamma_2  BandPower_gamma_3  \\\n",
       "0           0.625572           3.308251         938.983370           0.957668   \n",
       "1           0.650411           2.372382         943.085065           0.943409   \n",
       "2           0.683323           2.175736         954.340933           1.002169   \n",
       "3           0.458879           3.001322         948.288957           0.813986   \n",
       "4           0.625329           2.436957         961.504731           1.194271   \n",
       "\n",
       "       MI_0     PLI_0  label  \n",
       "0  0.838047  0.117057      1  \n",
       "1  3.412117  0.027865      1  \n",
       "2  1.640939  0.027344      1  \n",
       "3  2.610624  0.126172      1  \n",
       "4  1.051656  0.120182      1  \n",
       "\n",
       "[5 rows x 55 columns]"
      ]
     },
     "execution_count": 182,
     "metadata": {},
     "output_type": "execute_result"
    }
   ],
   "source": [
    "data.head(5)"
   ]
  },
  {
   "cell_type": "code",
   "execution_count": 183,
   "id": "fa517faf-5e14-40bc-bc24-a1d2309b7a71",
   "metadata": {},
   "outputs": [
    {
     "name": "stdout",
     "output_type": "stream",
     "text": [
      "Index(['ShannonEntropy_0', 'ShannonEntropy_1', 'ShannonEntropy_2',\n",
      "       'ShannonEntropy_3', 'MedianFreq_0', 'MedianFreq_1', 'MedianFreq_2',\n",
      "       'MedianFreq_3', 'Std_0', 'Std_1', 'Std_2', 'Std_3',\n",
      "       'ShannonEntropy_delta_0', 'ShannonEntropy_delta_1',\n",
      "       'ShannonEntropy_delta_2', 'ShannonEntropy_delta_3',\n",
      "       'ShannonEntropy_theta_0', 'ShannonEntropy_theta_1',\n",
      "       'ShannonEntropy_theta_2', 'ShannonEntropy_theta_3',\n",
      "       'ShannonEntropy_alpha_0', 'ShannonEntropy_alpha_1',\n",
      "       'ShannonEntropy_alpha_2', 'ShannonEntropy_alpha_3',\n",
      "       'ShannonEntropy_beta_0', 'ShannonEntropy_beta_1',\n",
      "       'ShannonEntropy_beta_2', 'ShannonEntropy_beta_3',\n",
      "       'ShannonEntropy_gamma_0', 'ShannonEntropy_gamma_1',\n",
      "       'ShannonEntropy_gamma_2', 'ShannonEntropy_gamma_3', 'HjorthMob_0',\n",
      "       'HjorthMob_1', 'HjorthMob_2', 'HjorthMob_3', 'HjorthComp_0',\n",
      "       'HjorthComp_1', 'HjorthComp_2', 'HjorthComp_3', 'BandPower_alpha_0',\n",
      "       'BandPower_alpha_1', 'BandPower_alpha_2', 'BandPower_alpha_3',\n",
      "       'BandPower_beta_0', 'BandPower_beta_1', 'BandPower_beta_2',\n",
      "       'BandPower_beta_3', 'BandPower_gamma_0', 'BandPower_gamma_1',\n",
      "       'BandPower_gamma_2', 'BandPower_gamma_3', 'MI_0', 'PLI_0', 'label'],\n",
      "      dtype='object')\n"
     ]
    }
   ],
   "source": [
    "print(data.columns)"
   ]
  },
  {
   "cell_type": "code",
   "execution_count": 184,
   "id": "99ad35b9-270c-4fcf-a280-fb15df102f2e",
   "metadata": {},
   "outputs": [
    {
     "name": "stdout",
     "output_type": "stream",
     "text": [
      "Data preprocessed successfully.\n"
     ]
    }
   ],
   "source": [
    "X, y, label_encoder = preprocess_data(data)\n",
    "print(\"Data preprocessed successfully.\")"
   ]
  },
  {
   "cell_type": "code",
   "execution_count": 185,
   "id": "f9d47b2b-3628-435a-8bc6-5889e1907e2b",
   "metadata": {},
   "outputs": [
    {
     "data": {
      "text/plain": [
       "array([1, 1, 1, ..., 1, 1, 1])"
      ]
     },
     "execution_count": 185,
     "metadata": {},
     "output_type": "execute_result"
    }
   ],
   "source": [
    "y"
   ]
  },
  {
   "cell_type": "code",
   "execution_count": 186,
   "id": "24d94213-4b01-4439-8900-1fa885415543",
   "metadata": {},
   "outputs": [
    {
     "data": {
      "text/plain": [
       "(2520, 54)"
      ]
     },
     "execution_count": 186,
     "metadata": {},
     "output_type": "execute_result"
    }
   ],
   "source": [
    "X.shape"
   ]
  },
  {
   "cell_type": "code",
   "execution_count": 187,
   "id": "93f76b7b-3efc-4836-8bc5-37758098d018",
   "metadata": {},
   "outputs": [
    {
     "data": {
      "text/plain": [
       "(2520,)"
      ]
     },
     "execution_count": 187,
     "metadata": {},
     "output_type": "execute_result"
    }
   ],
   "source": [
    "y.shape"
   ]
  },
  {
   "cell_type": "code",
   "execution_count": 188,
   "id": "3645f04b-29c8-48c9-9b27-c840fd64c404",
   "metadata": {},
   "outputs": [
    {
     "name": "stdout",
     "output_type": "stream",
     "text": [
      "Number of unique classes: 3\n",
      "\n",
      "Classes and their sample counts:\n",
      "1    1317\n",
      "0     728\n",
      "2     475\n",
      "Name: label, dtype: int64\n"
     ]
    }
   ],
   "source": [
    "#analyze_labels(data, 'Cognitive_Load_Label') \n",
    "analyze_labels(data, 'label') "
   ]
  },
  {
   "cell_type": "code",
   "execution_count": 189,
   "id": "4a3cd249-63cd-4f33-a8b9-ca83746adb6f",
   "metadata": {},
   "outputs": [
    {
     "data": {
      "text/plain": [
       "(2520, 54)"
      ]
     },
     "execution_count": 189,
     "metadata": {},
     "output_type": "execute_result"
    }
   ],
   "source": [
    "X.shape"
   ]
  },
  {
   "cell_type": "code",
   "execution_count": 190,
   "id": "3b44e8f7-9f5e-4d6c-b433-08e9b907b88d",
   "metadata": {},
   "outputs": [
    {
     "name": "stdout",
     "output_type": "stream",
     "text": [
      "Data split successfully.\n"
     ]
    }
   ],
   "source": [
    "X_train, X_test, y_train, y_test = split_data(X, y)\n",
    "print(\"Data split successfully.\")"
   ]
  },
  {
   "cell_type": "code",
   "execution_count": 191,
   "id": "4fdc3e69-19a5-4ca5-8c75-c86450813ddb",
   "metadata": {},
   "outputs": [
    {
     "name": "stdout",
     "output_type": "stream",
     "text": [
      "(2016, 54) (504, 54)\n"
     ]
    }
   ],
   "source": [
    "print(X_train.shape, X_test.shape)"
   ]
  },
  {
   "cell_type": "code",
   "execution_count": 212,
   "id": "15dc5089-cdb1-4d32-aaa0-a33472c4c31b",
   "metadata": {},
   "outputs": [
    {
     "name": "stdout",
     "output_type": "stream",
     "text": [
      "torch.Size([2016]) torch.Size([504])\n"
     ]
    }
   ],
   "source": [
    "print(y_train.shape, y_test.shape)"
   ]
  },
  {
   "cell_type": "code",
   "execution_count": 225,
   "id": "152eca50-9e4b-40ef-8cc1-306a8b19cf9f",
   "metadata": {},
   "outputs": [
    {
     "name": "stdout",
     "output_type": "stream",
     "text": [
      "<class 'torch.Tensor'> <class 'torch.Tensor'> <class 'torch.Tensor'> <class 'torch.Tensor'>\n"
     ]
    }
   ],
   "source": [
    "print(type(X_train), type(y_train), type(X_test), type(y_test))"
   ]
  },
  {
   "cell_type": "code",
   "execution_count": 250,
   "id": "83e03ff0-b8d5-47a0-af96-e6e495dc18ea",
   "metadata": {},
   "outputs": [],
   "source": [
    "class CNN(nn.Module):\n",
    "    def __init__(self, num_classes=3):\n",
    "        super(CNN, self).__init__()\n",
    "        self.conv1 = nn.Conv1d(in_channels=1, out_channels=64, kernel_size=3, stride=1, padding=1)\n",
    "        self.bn1 = nn.BatchNorm1d(64)\n",
    "        self.pool = nn.MaxPool1d(kernel_size=2, stride=2)\n",
    "        self.conv2 = nn.Conv1d(in_channels=64, out_channels=128, kernel_size=3, stride=1, padding=1)\n",
    "        self.bn2 = nn.BatchNorm1d(128)\n",
    "        self.fc1 = nn.Linear(128 * 13, num_classes)  \n",
    "\n",
    "    def forward(self, x):\n",
    "        x = x.unsqueeze(1)  \n",
    "        x = self.pool(F.relu(self.bn1(self.conv1(x))))  \n",
    "        x = self.pool(F.relu(self.bn2(self.conv2(x))))  \n",
    "        x = x.view(x.size(0), -1)  \n",
    "        x = self.fc1(x)  \n",
    "        return x"
   ]
  },
  {
   "cell_type": "code",
   "execution_count": 256,
   "id": "4582e80b-cd7e-41ef-ad35-33aa8facc7c5",
   "metadata": {},
   "outputs": [
    {
     "name": "stderr",
     "output_type": "stream",
     "text": [
      "To copy construct from a tensor, it is recommended to use sourceTensor.clone().detach() or sourceTensor.clone().detach().requires_grad_(True), rather than torch.tensor(sourceTensor).\n",
      "To copy construct from a tensor, it is recommended to use sourceTensor.clone().detach() or sourceTensor.clone().detach().requires_grad_(True), rather than torch.tensor(sourceTensor).\n",
      "To copy construct from a tensor, it is recommended to use sourceTensor.clone().detach() or sourceTensor.clone().detach().requires_grad_(True), rather than torch.tensor(sourceTensor).\n",
      "To copy construct from a tensor, it is recommended to use sourceTensor.clone().detach() or sourceTensor.clone().detach().requires_grad_(True), rather than torch.tensor(sourceTensor).\n"
     ]
    }
   ],
   "source": [
    "X_train = torch.tensor(X_train, dtype=torch.float32)\n",
    "y_train = torch.tensor(y_train, dtype=torch.long)\n",
    "X_test = torch.tensor(X_test, dtype=torch.float32)\n",
    "y_test = torch.tensor(y_test, dtype=torch.long)\n",
    "\n",
    "# Create DataLoaders\n",
    "batch_size = 8\n",
    "train_dataset = TensorDataset(X_train, y_train)\n",
    "test_dataset = TensorDataset(X_test, y_test)\n",
    "train_loader = DataLoader(train_dataset, batch_size=batch_size, shuffle=True)\n",
    "test_loader = DataLoader(test_dataset, batch_size=batch_size, shuffle=False)"
   ]
  },
  {
   "cell_type": "code",
   "execution_count": 257,
   "id": "aced26d9-f660-4c29-a27c-173b8809d8aa",
   "metadata": {},
   "outputs": [
    {
     "name": "stdout",
     "output_type": "stream",
     "text": [
      "SimpleCNN(\n",
      "  (conv1): Conv1d(1, 64, kernel_size=(3,), stride=(1,), padding=(1,))\n",
      "  (bn1): BatchNorm1d(64, eps=1e-05, momentum=0.1, affine=True, track_running_stats=True)\n",
      "  (pool): MaxPool1d(kernel_size=2, stride=2, padding=0, dilation=1, ceil_mode=False)\n",
      "  (conv2): Conv1d(64, 128, kernel_size=(3,), stride=(1,), padding=(1,))\n",
      "  (bn2): BatchNorm1d(128, eps=1e-05, momentum=0.1, affine=True, track_running_stats=True)\n",
      "  (fc1): Linear(in_features=1664, out_features=3, bias=True)\n",
      ")\n"
     ]
    }
   ],
   "source": [
    "device = torch.device(\"cuda\" if torch.cuda.is_available() else \"cpu\")\n",
    "model = CNN(num_classes=3).to(device)\n",
    "print(model)\n",
    "criterion = nn.CrossEntropyLoss()\n",
    "optimizer = torch.optim.Adam(model.parameters(), lr=0.003)"
   ]
  },
  {
   "cell_type": "code",
   "execution_count": 258,
   "id": "40892df8-f72d-45df-8cc5-517384e78794",
   "metadata": {},
   "outputs": [],
   "source": [
    "# X_train = torch.randn(1242, 54)\n",
    "\n",
    "# model = CNN(num_classes=3)\n",
    "\n",
    "# # Pass through the model\n",
    "# output = model(X_train)\n",
    "\n",
    "# # Verify input and output shapes\n",
    "# print(\"Input shape:\", X_train.shape)  # Should be (1242, 8)\n",
    "# print(\"Output shape:\", output.shape)  # Should be (1242, 2)"
   ]
  },
  {
   "cell_type": "code",
   "execution_count": 259,
   "id": "d2b834c5-10fd-411e-a6d5-3f8452ab0248",
   "metadata": {},
   "outputs": [
    {
     "name": "stdout",
     "output_type": "stream",
     "text": [
      "Starting training...\n",
      "Epoch [1/32], Loss: 0.9154, Accuracy: 0.5258\n",
      "Epoch [2/32], Loss: 0.6903, Accuracy: 0.6106\n",
      "Epoch [3/32], Loss: 0.5760, Accuracy: 0.6815\n",
      "Epoch [4/32], Loss: 0.5587, Accuracy: 0.7009\n",
      "Epoch [5/32], Loss: 0.5142, Accuracy: 0.7227\n",
      "Epoch [6/32], Loss: 0.5074, Accuracy: 0.7207\n",
      "Epoch [7/32], Loss: 0.4852, Accuracy: 0.7351\n",
      "Epoch [8/32], Loss: 0.4294, Accuracy: 0.7773\n",
      "Epoch [9/32], Loss: 0.4466, Accuracy: 0.7698\n",
      "Epoch [10/32], Loss: 0.4174, Accuracy: 0.7827\n",
      "Epoch [11/32], Loss: 0.4066, Accuracy: 0.7842\n",
      "Epoch [12/32], Loss: 0.3796, Accuracy: 0.8056\n",
      "Epoch [13/32], Loss: 0.3762, Accuracy: 0.8031\n",
      "Epoch [14/32], Loss: 0.3436, Accuracy: 0.8269\n",
      "Epoch [15/32], Loss: 0.3499, Accuracy: 0.8259\n",
      "Epoch [16/32], Loss: 0.3295, Accuracy: 0.8299\n",
      "Epoch [17/32], Loss: 0.3059, Accuracy: 0.8626\n",
      "Epoch [18/32], Loss: 0.3103, Accuracy: 0.8323\n",
      "Epoch [19/32], Loss: 0.2938, Accuracy: 0.8522\n",
      "Epoch [20/32], Loss: 0.2868, Accuracy: 0.8497\n",
      "Epoch [21/32], Loss: 0.2702, Accuracy: 0.8686\n",
      "Epoch [22/32], Loss: 0.2568, Accuracy: 0.8666\n",
      "Epoch [23/32], Loss: 0.2616, Accuracy: 0.8725\n",
      "Epoch [24/32], Loss: 0.2715, Accuracy: 0.8666\n",
      "Epoch [25/32], Loss: 0.2161, Accuracy: 0.8983\n",
      "Epoch [26/32], Loss: 0.2329, Accuracy: 0.8864\n",
      "Epoch [27/32], Loss: 0.2152, Accuracy: 0.8909\n",
      "Epoch [28/32], Loss: 0.2136, Accuracy: 0.8953\n",
      "Epoch [29/32], Loss: 0.2017, Accuracy: 0.9008\n",
      "Epoch [30/32], Loss: 0.1899, Accuracy: 0.9107\n",
      "Epoch [31/32], Loss: 0.2073, Accuracy: 0.8909\n",
      "Epoch [32/32], Loss: 0.1807, Accuracy: 0.9147\n"
     ]
    }
   ],
   "source": [
    "num_epochs = 32\n",
    "train_losses = []\n",
    "\n",
    "print(\"Starting training...\")\n",
    "for epoch in range(num_epochs):\n",
    "    model.train()\n",
    "    total_loss = 0\n",
    "    correct = 0\n",
    "    total = 0\n",
    "\n",
    "    for X_batch, y_batch in train_loader:\n",
    "        X_batch, y_batch = X_batch.to(device), y_batch.to(device)\n",
    "\n",
    "        optimizer.zero_grad()\n",
    "        outputs = model(X_batch)\n",
    "        #print(outputs)\n",
    "        loss = 0.8 * criterion(outputs, y_batch)\n",
    "        loss.backward()\n",
    "        optimizer.step()\n",
    "\n",
    "        total_loss += loss.item()\n",
    "        correct += (outputs.argmax(1) == y_batch).sum().item()\n",
    "        total += y_batch.size(0)\n",
    "\n",
    "    epoch_loss = total_loss / len(train_loader)\n",
    "    train_losses.append(epoch_loss)\n",
    "    epoch_accuracy = correct / total\n",
    "\n",
    "    print(f\"Epoch [{epoch+1}/{num_epochs}], Loss: {epoch_loss:.4f}, Accuracy: {epoch_accuracy:.4f}\")"
   ]
  },
  {
   "cell_type": "code",
   "execution_count": 274,
   "id": "4c0b5e1f-4010-4b6c-98f2-4c353b4c8f14",
   "metadata": {},
   "outputs": [
    {
     "data": {
      "image/png": "[encoded data removed]",
      "text/plain": [
       "<Figure size 432x432 with 1 Axes>"
      ]
     },
     "metadata": {},
     "output_type": "display_data"
    }
   ],
   "source": [
    "plt.figure(figsize=(6, 6))\n",
    "plt.plot(range(1, num_epochs + 1), train_losses, marker='*', label='Training Loss')\n",
    "plt.xlabel('Epoch', fontweight = 'semibold', fontsize=32)\n",
    "plt.ylabel(\"$T_{Loss}$\", fontweight = 'semibold', fontsize=32)\n",
    "#plt.title('Training Loss Over Epochs')\n",
    "plt.legend(['Training Loss'], prop=dict(weight='semibold', size = 25))  \n",
    "plt.grid(True)\n",
    "plt.savefig('loss_beta_decode.png',transparent=False, bbox_inches='tight', pad_inches=0)\n",
    "plt.show()"
   ]
  },
  {
   "cell_type": "code",
   "execution_count": 119,
   "id": "fe0311bd-d724-4fbb-94c2-91af9ac998d3",
   "metadata": {},
   "outputs": [
    {
     "name": "stdout",
     "output_type": "stream",
     "text": [
      "\n",
      "Evaluating...\n"
     ]
    },
    {
     "data": {
      "image/png": "[encoded data removed]",
      "text/plain": [
       "<Figure size 432x432 with 2 Axes>"
      ]
     },
     "metadata": {},
     "output_type": "display_data"
    },
    {
     "name": "stdout",
     "output_type": "stream",
     "text": [
      "\n",
      "Classification Report:\n",
      "              precision    recall  f1-score   support\n",
      "\n",
      "           0     0.8098    0.9757    0.8850       576\n",
      "           1     0.9676    0.8721    0.9174      1063\n",
      "           2     0.9533    0.9204    0.9366       377\n",
      "\n",
      "    accuracy                         0.9107      2016\n",
      "   macro avg     0.9102    0.9227    0.9130      2016\n",
      "weighted avg     0.9199    0.9107    0.9117      2016\n",
      "\n"
     ]
    }
   ],
   "source": [
    "print(\"\\nEvaluating...\")\n",
    "model.eval()\n",
    "y_true = []\n",
    "y_pred = []\n",
    "\n",
    "with torch.no_grad():\n",
    "    for X_batch, y_batch in train_loader:\n",
    "        X_batch, y_batch = X_batch.to(device), y_batch.to(device)\n",
    "        outputs = model(X_batch)\n",
    "        preds = outputs.argmax(1)\n",
    "\n",
    "        y_true.extend(y_batch.cpu().numpy())\n",
    "        y_pred.extend(preds.cpu().numpy())\n",
    "\n",
    "#classes = ['Low CL','High CL']\n",
    "classes = ['Low CL', 'Medium CL','High CL']\n",
    "conf_matrix = confusion_matrix(y_true, y_pred)\n",
    "conf_matrix_percentage = conf_matrix.astype('float') / conf_matrix.sum(axis=1)[:, np.newaxis] * 100\n",
    "\n",
    "plt.figure(figsize=(6, 6))\n",
    "sns.heatmap(conf_matrix_percentage, annot=True, fmt='.2f', cmap='Blues', xticklabels=classes, yticklabels=classes, annot_kws={\"size\": 18})\n",
    "#plt.xlabel('Predicted Class')\n",
    "#plt.ylabel('True Class')\n",
    "#plt.title('Confusion Matrix')\n",
    "plt.savefig('CALM.png',transparent=True, bbox_inches='tight', pad_inches=0)\n",
    "plt.show()\n",
    "\n",
    "print(\"\\nClassification Report:\")\n",
    "print(classification_report(y_true, y_pred, digits=4))"
   ]
  },
  {
   "cell_type": "code",
   "execution_count": null,
   "id": "79e170f4-61be-4458-8ee7-5fc7dec65beb",
   "metadata": {},
   "outputs": [],
   "source": []
  },
  {
   "cell_type": "code",
   "execution_count": null,
   "id": "71531f76-8b0c-445a-897a-f595b6dce8be",
   "metadata": {},
   "outputs": [],
   "source": []
  },
  {
   "cell_type": "markdown",
   "id": "614ed601-b065-404b-8c28-99dd207d55cf",
   "metadata": {},
   "source": [
    "# Traditional ML Algorithms"
   ]
  },
  {
   "cell_type": "code",
   "execution_count": 17,
   "id": "7421a7d6-e1c3-4753-b80d-23815881033f",
   "metadata": {},
   "outputs": [],
   "source": [
    "accuracy_scores = np.zeros(4)"
   ]
  },
  {
   "cell_type": "code",
   "execution_count": 18,
   "id": "eeefa238-5edf-4151-bcc8-1fbfc3701ddd",
   "metadata": {},
   "outputs": [],
   "source": [
    "classes = ['Low CL','High CL']\n",
    "#classes = ['Low CL', 'Medium CL','High CL']"
   ]
  },
  {
   "cell_type": "code",
   "execution_count": 180,
   "id": "62dd7d7f-167e-4f24-923b-abbdcfafa135",
   "metadata": {
    "tags": []
   },
   "outputs": [
    {
     "name": "stderr",
     "output_type": "stream",
     "text": [
      "Stochastic Optimizer: Maximum iterations (200) reached and the optimization hasn't converged yet.\n"
     ]
    },
    {
     "name": "stdout",
     "output_type": "stream",
     "text": [
      " MLPClassifier Accuracy: 86.02409638554217%\n",
      "              precision    recall  f1-score   support\n",
      "\n",
      "      Low CL       0.82      0.71      0.76       132\n",
      "     High CL       0.87      0.93      0.90       283\n",
      "\n",
      "    accuracy                           0.86       415\n",
      "   macro avg       0.85      0.82      0.83       415\n",
      "weighted avg       0.86      0.86      0.86       415\n",
      "\n"
     ]
    },
    {
     "data": {
      "image/png": "[encoded data removed]",
      "text/plain": [
       "<Figure size 576x576 with 2 Axes>"
      ]
     },
     "metadata": {},
     "output_type": "display_data"
    }
   ],
   "source": [
    "clf =  MLPClassifier().fit(X_train, y_train)\n",
    "prediction = clf.predict(X_test)\n",
    "accuracy_scores[0] = accuracy_score(y_test, prediction)*100\n",
    "cf_matrix = confusion_matrix(y_test, prediction)\n",
    "df_cm = pd.DataFrame(cf_matrix / np.sum(cf_matrix, axis=1)[:, None], index = [i for i in classes],\n",
    "                     columns = [i for i in classes])\n",
    "#plt.figure(figsize = (12,10))\n",
    "sns.heatmap(df_cm, annot=True)\n",
    "plt.xlabel('Class Labels', fontweight='semibold')\n",
    "plt.ylabel('Class Labels', fontweight='semibold')\n",
    "#plt.savefig(\"Images/New_Confusion_Matrix_BAR_Gender_Variations.png\", format='png',bbox_inches='tight', pad_inches=0,dpi=300)\n",
    "report = metrics.classification_report(y_test, prediction, target_names=classes)\n",
    "#df = pd.DataFrame(report).transpose()\n",
    "#df.to_csv('Classification_Report_MLP_Sreeni_Dataset.csv')\n",
    "print(' MLPClassifier Accuracy: {}%'.format(accuracy_scores[0]))\n",
    "#cm.numpy.genfromtxt('C:/localpath/test.csv', delimiter=',')\n",
    "#plt.savefig('Confusion_Matrix_MLP_Participant_Hand_and_Palm_Dataset',transparent=True, bbox_inches='tight', pad_inches=0)\n",
    "print(report)\n",
    "#plt.show()"
   ]
  },
  {
   "cell_type": "code",
   "execution_count": 181,
   "id": "66d3c6ea-9a92-4bd9-b590-20c4ed258497",
   "metadata": {},
   "outputs": [
    {
     "name": "stdout",
     "output_type": "stream",
     "text": [
      " Naive Bayes Classifier Accuracy : 83.855421686747%\n",
      "              precision    recall  f1-score   support\n",
      "\n",
      "      Low CL       0.73      0.79      0.76       132\n",
      "     High CL       0.90      0.86      0.88       283\n",
      "\n",
      "    accuracy                           0.84       415\n",
      "   macro avg       0.81      0.83      0.82       415\n",
      "weighted avg       0.84      0.84      0.84       415\n",
      "\n"
     ]
    },
    {
     "data": {
      "image/png": "[encoded data removed]",
      "text/plain": [
       "<Figure size 576x576 with 2 Axes>"
      ]
     },
     "metadata": {},
     "output_type": "display_data"
    }
   ],
   "source": [
    "gnb = GaussianNB()\n",
    "clf =  gnb.fit(X_train, y_train)\n",
    "prediction = clf.predict(X_test)\n",
    "accuracy_scores[0] = accuracy_score(y_test, prediction)*100\n",
    "cf_matrix = confusion_matrix(y_test, prediction)\n",
    "df_cm = pd.DataFrame(cf_matrix / np.sum(cf_matrix, axis=1)[:, None], index = [i for i in classes],\n",
    "                     columns = [i for i in classes])\n",
    "#plt.figure(figsize = (12,10))\n",
    "sns.heatmap(df_cm, annot=True)\n",
    "plt.xlabel('Class Labels', fontweight='semibold')\n",
    "plt.ylabel('Class Labels', fontweight='semibold')\n",
    "report = metrics.classification_report(y_test, prediction, target_names=classes)\n",
    "#df = pd.DataFrame(report).transpose()\n",
    "#df.to_csv('Classification_Report_NB_Sreeni_Dataset.csv')\n",
    "print(' Naive Bayes Classifier Accuracy : {}%'.format(accuracy_scores[0]))\n",
    "#plt.savefig('Confusion_Matrix_Naive_Bayes_Participant_Hand_and_Palm_Dataset',transparent=True, bbox_inches='tight', pad_inches=0)\n",
    "print(report)\n",
    "#plt.show()"
   ]
  },
  {
   "cell_type": "code",
   "execution_count": 182,
   "id": "90e9e500-d39b-472c-b745-f4fd9d8aa7eb",
   "metadata": {},
   "outputs": [
    {
     "name": "stdout",
     "output_type": "stream",
     "text": [
      "Random Forest Classifier Accuracy: 83.855421686747%\n",
      "              precision    recall  f1-score   support\n",
      "\n",
      "      Low CL       0.73      0.79      0.76       132\n",
      "     High CL       0.90      0.86      0.88       283\n",
      "\n",
      "    accuracy                           0.84       415\n",
      "   macro avg       0.81      0.83      0.82       415\n",
      "weighted avg       0.84      0.84      0.84       415\n",
      "\n"
     ]
    },
    {
     "data": {
      "image/png": "[encoded data removed]",
      "text/plain": [
       "<Figure size 576x576 with 2 Axes>"
      ]
     },
     "metadata": {},
     "output_type": "display_data"
    }
   ],
   "source": [
    "clf1 = RandomForestClassifier(n_estimators=100, random_state=1200).fit(X_train, y_train)\n",
    "prediction = clf.predict(X_test)\n",
    "accuracy_scores[0] = accuracy_score(y_test, prediction)*100\n",
    "cf_matrix = confusion_matrix(y_test, prediction)\n",
    "df_cm = pd.DataFrame(cf_matrix / np.sum(cf_matrix, axis=1)[:, None], index = [i for i in classes],\n",
    "                     columns = [i for i in classes])\n",
    "#plt.figure(figsize = (12,10))\n",
    "sns.heatmap(df_cm, annot=True)\n",
    "plt.xlabel('Class Labels', fontweight='semibold')\n",
    "plt.ylabel('Class Labels', fontweight='semibold')\n",
    "report = metrics.classification_report(y_test, prediction, target_names=classes)\n",
    "#df = pd.DataFrame(report).transpose()\n",
    "#df.to_csv('Classification_Report_RF_Sreeni_Dataset.csv')\n",
    "print('Random Forest Classifier Accuracy: {}%'.format(accuracy_scores[0]))\n",
    "#plt.savefig('Confusion_Matrix_RF_Participant_Hand_and_Palm_Dataset',transparent=True, bbox_inches='tight', pad_inches=0)\n",
    "print(report)\n",
    "plt.show()"
   ]
  },
  {
   "cell_type": "code",
   "execution_count": 45,
   "id": "6ce0a0d8-8bea-4511-908e-295e1ac8cb20",
   "metadata": {},
   "outputs": [
    {
     "name": "stdout",
     "output_type": "stream",
     "text": [
      " Decision Tree Classifier Accuracy: 82.65060240963855%\n",
      "              precision    recall  f1-score   support\n",
      "\n",
      "      Low CL       0.75      0.67      0.71       132\n",
      "     High CL       0.86      0.90      0.88       283\n",
      "\n",
      "    accuracy                           0.83       415\n",
      "   macro avg       0.80      0.79      0.79       415\n",
      "weighted avg       0.82      0.83      0.82       415\n",
      "\n"
     ]
    },
    {
     "data": {
      "image/png": "[encoded data removed]",
      "text/plain": [
       "<Figure size 576x576 with 2 Axes>"
      ]
     },
     "metadata": {},
     "output_type": "display_data"
    }
   ],
   "source": [
    "clf =  tree.DecisionTreeClassifier().fit(X_train, y_train)\n",
    "prediction = clf.predict(X_test)\n",
    "accuracy_scores[0] = accuracy_score(y_test, prediction)*100\n",
    "cf_matrix = confusion_matrix(y_test, prediction)\n",
    "df_cm = pd.DataFrame(cf_matrix / np.sum(cf_matrix, axis=1)[:, None], index = [i for i in classes],\n",
    "                     columns = [i for i in classes])\n",
    "#plt.figure(figsize = (12,10))\n",
    "sns.heatmap(df_cm, annot=True)\n",
    "plt.xlabel('Class Labels', fontweight='semibold')\n",
    "plt.ylabel('Class Labels', fontweight='semibold')\n",
    "report = metrics.classification_report(y_test, prediction, target_names=classes)\n",
    "#df = pd.DataFrame(report).transpose()\n",
    "#df.to_csv('Classification_Report_DT_Sreeni_Dataset.csv')\n",
    "print(' Decision Tree Classifier Accuracy: {}%'.format(accuracy_scores[0]))\n",
    "#plt.savefig('Confusion_Matrix_DT_Participant_Hand_and_Palm_Dataset',transparent=True, bbox_inches='tight', pad_inches=0)\n",
    "print(report)\n",
    "plt.show()"
   ]
  },
  {
   "cell_type": "code",
   "execution_count": 46,
   "id": "9d223006-414d-4013-a2d9-3025f7561650",
   "metadata": {},
   "outputs": [
    {
     "name": "stdout",
     "output_type": "stream",
     "text": [
      "  SVM RBF MulitclassClassifier Accuracy: 84.57831325301206%\n",
      "              precision    recall  f1-score   support\n",
      "\n",
      "      Low CL       0.77      0.73      0.75       132\n",
      "     High CL       0.88      0.90      0.89       283\n",
      "\n",
      "    accuracy                           0.85       415\n",
      "   macro avg       0.83      0.81      0.82       415\n",
      "weighted avg       0.84      0.85      0.84       415\n",
      "\n"
     ]
    },
    {
     "data": {
      "image/png": "[encoded data removed]",
      "text/plain": [
       "<Figure size 576x576 with 2 Axes>"
      ]
     },
     "metadata": {},
     "output_type": "display_data"
    }
   ],
   "source": [
    "clf = SVC(kernel = 'rbf').fit(X_train, y_train)\n",
    "#clf = SVC(kernel='rbf', random_state=0, gamma=1, C=1).fit(X_train, y_train) \n",
    "prediction = clf.predict(X_test) \n",
    "accuracy_scores[0] = accuracy_score(y_test, prediction)*100\n",
    "cf_matrix = confusion_matrix(y_test, prediction)\n",
    "df_cm = pd.DataFrame(cf_matrix / np.sum(cf_matrix, axis=1)[:, None], index = [i for i in classes],\n",
    "                     columns = [i for i in classes])\n",
    "#plt.figure(figsize = (12,10))\n",
    "sns.heatmap(df_cm, annot=True)\n",
    "plt.xlabel('Class Labels', fontweight='semibold')\n",
    "plt.ylabel('Class Labels', fontweight='semibold')\n",
    "report = metrics.classification_report(y_test, prediction, target_names=classes)\n",
    "#df = pd.DataFrame(report).transpose()\n",
    "#df.to_csv('Classification_Report_MLP_Sreeni_Dataset.csv')\n",
    "print('  SVM RBF MulitclassClassifier Accuracy: {}%'.format(accuracy_scores[0]))\n",
    "#cm.numpy.genfromtxt('C:/localpath/test.csv', delimiter=',')\n",
    "#plt.savefig('Confusion_Matrix_SVM_RBF_Participant_Hand_and_Palm_Dataset',transparent=True, bbox_inches='tight', pad_inches=0)\n",
    "print(report)\n",
    "plt.show()"
   ]
  },
  {
   "cell_type": "markdown",
   "id": "88e52661-c57b-4423-a8f4-ed8eb82da539",
   "metadata": {},
   "source": [
    "# SHAP Analysis"
   ]
  },
  {
   "cell_type": "code",
   "execution_count": 140,
   "id": "83e2bac3-608d-4e3d-b594-5f3cc69a1644",
   "metadata": {},
   "outputs": [
    {
     "name": "stdout",
     "output_type": "stream",
     "text": [
      "SHAP summary plot showing all features saved as 'shap_summary_plot_all_features.png'.\n"
     ]
    }
   ],
   "source": [
    "X = pd.read_csv('EEGfeatures.csv')  \n",
    "Y = pd.read_csv('EEGlabels.csv')    \n",
    "\n",
    "#print(X.head(5))\n",
    "\n",
    "# Ensure that Y is a Series\n",
    "Y = Y.squeeze()  # This is necessary if the labels are loaded as a DataFrame with a single column\n",
    "\n",
    "# Split into training and test sets\n",
    "X_train, X_test, Y_train, Y_test = train_test_split(X, Y, test_size=0.3, random_state=42)\n",
    "\n",
    "# Train Random Forest Classifier\n",
    "clf1 = RandomForestClassifier(n_estimators=80, random_state=1200)\n",
    "clf1.fit(X_train, Y_train)\n",
    "\n",
    "explainer = shap.TreeExplainer(clf1)  \n",
    "shap_values = explainer.shap_values(X_test)\n",
    "\n",
    "#classes = ['Low Cognitive Load', 'High Cognitive Load']\n",
    "\n",
    "# SHAP Explainer\n",
    "explainer = shap.TreeExplainer(clf1)  # SHAP explainer for your model\n",
    "shap_values = explainer.shap_values(X_test)\n",
    "\n",
    "plt.figure(dpi=300)\n",
    "shap.summary_plot(shap_values, X_test, class_names=classes, max_display=5, show=False)\n",
    "plt.savefig('shap_summary_plot_EEG_features.png', bbox_inches='tight', dpi=300)\n",
    "plt.close()\n",
    "#plt.show()\n",
    "\n",
    "print(\"SHAP summary plot showing all features saved as 'shap_summary_plot_all_features.png'.\")"
   ]
  },
  {
   "cell_type": "code",
   "execution_count": null,
   "id": "586e2354-09e1-4fa8-90f4-55fd72071ea6",
   "metadata": {},
   "outputs": [],
   "source": []
  },
  {
   "cell_type": "code",
   "execution_count": 138,
   "id": "5b4fe1ad-bb3b-4a80-8af1-f342561be49e",
   "metadata": {},
   "outputs": [],
   "source": [
    "#shap.plots.waterfall(shap_values)"
   ]
  },
  {
   "cell_type": "code",
   "execution_count": 139,
   "id": "47d7508b-bbf7-45da-bfb3-3c750ba8dd1f",
   "metadata": {},
   "outputs": [],
   "source": [
    "#shap.plots.heatmap(shap_values)"
   ]
  },
  {
   "cell_type": "code",
   "execution_count": null,
   "id": "6dbe7ff9-876a-4966-a2c9-3458a00661d5",
   "metadata": {},
   "outputs": [],
   "source": [
    "X = pd.read_csv('GSRfeatures.csv')  # Replace with the actual path to your features CSV\n",
    "Y = pd.read_csv('GSRlabels.csv')    # Replace with the actual path to your labels CSV\n",
    "\n",
    "# Ensure that Y is a Series\n",
    "Y = Y.squeeze()  # This is necessary if the labels are loaded as a DataFrame with a single column\n",
    "\n",
    "# Split into training and test sets\n",
    "X_train, X_test, Y_train, Y_test = train_test_split(X, Y, test_size=0.3, random_state=42)\n",
    "\n",
    "# Train Random Forest Classifier\n",
    "clf0 = RandomForestClassifier(n_estimators=100, random_state=1200)\n",
    "clf0.fit(X_train, Y_train)\n",
    "\n",
    "# Compute standard deviation of feature importances\n",
    "std = np.std([tree.feature_importances_ for tree in clf0.estimators_], axis=0)\n",
    "\n",
    "# Extract feature importances\n",
    "feature_importances = pd.Series(clf0.feature_importances_, index=X_train.columns)\n",
    "\n",
    "# Print accuracy on test data\n",
    "print('Score of RF model on test split\\n', clf0.score(X_test, Y_test))\n",
    "\n",
    "# Plot feature importances\n",
    "fig, ax = plt.subplots()\n",
    "feature_importances.plot.bar(yerr=std, ax=ax, color='red')  # Change 'orange' to your desired color\n",
    "ax.set_title(\"PPG Feature Importances Random Forest Clf\")\n",
    "ax.set_ylabel(\"Mean decrease in impurity\")\n",
    "fig.tight_layout()\n",
    "plt.show()"
   ]
  }
 ],
 "metadata": {
  "kernelspec": {
   "display_name": "Python 3",
   "language": "python",
   "name": "python3"
  },
  "language_info": {
   "codemirror_mode": {
    "name": "ipython",
    "version": 3
   },
   "file_extension": ".py",
   "mimetype": "text/x-python",
   "name": "python",
   "nbconvert_exporter": "python",
   "pygments_lexer": "ipython3",
   "version": "3.6.9"
  }
 },
 "nbformat": 4,
 "nbformat_minor": 5
}
